{
 "cells": [
  {
   "cell_type": "code",
   "execution_count": 1,
   "metadata": {
    "scrolled": true
   },
   "outputs": [],
   "source": [
    "#同时输出一个cell多个结果\n",
    "from IPython.core.interactiveshell import InteractiveShell\n",
    "InteractiveShell.ast_node_interactivity='all'   \n",
    "import pandas as pd\n",
    "import numpy as np\n",
    "from sklearn.model_selection import train_test_split\n",
    "from sklearn import preprocessing   #导入sklearn库中processing\n",
    "import matplotlib.pyplot as plt \n"
   ]
  },
  {
   "cell_type": "code",
   "execution_count": 2,
   "metadata": {
    "scrolled": true
   },
   "outputs": [
    {
     "name": "stdout",
     "output_type": "stream",
     "text": [
      "<class 'pandas.core.frame.DataFrame'>\n",
      "RangeIndex: 32561 entries, 0 to 32560\n",
      "Data columns (total 15 columns):\n",
      " #   Column          Non-Null Count  Dtype \n",
      "---  ------          --------------  ----- \n",
      " 0   age             32561 non-null  int64 \n",
      " 1   workclass       32561 non-null  object\n",
      " 2   fnlwgt          32561 non-null  int64 \n",
      " 3   education       32561 non-null  object\n",
      " 4   education-num   32561 non-null  int64 \n",
      " 5   marital-status  32561 non-null  object\n",
      " 6   occupation      32561 non-null  object\n",
      " 7   relationship    32561 non-null  object\n",
      " 8   race            32561 non-null  object\n",
      " 9   sex             32561 non-null  object\n",
      " 10  capital-gain    32561 non-null  int64 \n",
      " 11  capital-loss    32561 non-null  int64 \n",
      " 12  hours-per-week  32561 non-null  int64 \n",
      " 13  native-country  32561 non-null  object\n",
      " 14  income          32561 non-null  object\n",
      "dtypes: int64(6), object(9)\n",
      "memory usage: 3.7+ MB\n"
     ]
    }
   ],
   "source": [
    "#读入数据集\n",
    "adult=pd.read_csv('D:/adult.csv')#读入adult数据集\n",
    "adult.info()  #查看adult基本信息\n"
   ]
  },
  {
   "cell_type": "code",
   "execution_count": 3,
   "metadata": {},
   "outputs": [
    {
     "data": {
      "text/plain": [
       "<=50K    24720\n",
       ">50K      7841\n",
       "Name: income, dtype: int64"
      ]
     },
     "execution_count": 3,
     "metadata": {},
     "output_type": "execute_result"
    }
   ],
   "source": [
    "adult['income'].value_counts()"
   ]
  },
  {
   "cell_type": "markdown",
   "metadata": {},
   "source": [
    "## 数据预处理"
   ]
  },
  {
   "cell_type": "code",
   "execution_count": 4,
   "metadata": {
    "scrolled": true
   },
   "outputs": [
    {
     "data": {
      "text/plain": [
       "age               False\n",
       "workclass          True\n",
       "fnlwgt            False\n",
       "education         False\n",
       "education-num     False\n",
       "marital-status    False\n",
       "occupation         True\n",
       "relationship      False\n",
       "race              False\n",
       "sex               False\n",
       "capital-gain      False\n",
       "capital-loss      False\n",
       "hours-per-week    False\n",
       "native-country     True\n",
       "income            False\n",
       "dtype: bool"
      ]
     },
     "execution_count": 4,
     "metadata": {},
     "output_type": "execute_result"
    },
    {
     "data": {
      "text/plain": [
       "age               False\n",
       "workclass         False\n",
       "fnlwgt            False\n",
       "education         False\n",
       "education-num     False\n",
       "marital-status    False\n",
       "occupation        False\n",
       "relationship      False\n",
       "race              False\n",
       "sex               False\n",
       "capital-gain      False\n",
       "capital-loss      False\n",
       "hours-per-week    False\n",
       "native-country    False\n",
       "income            False\n",
       "dtype: bool"
      ]
     },
     "execution_count": 4,
     "metadata": {},
     "output_type": "execute_result"
    },
    {
     "name": "stdout",
     "output_type": "stream",
     "text": [
      "<class 'pandas.core.frame.DataFrame'>\n",
      "Int64Index: 30162 entries, 0 to 32560\n",
      "Data columns (total 15 columns):\n",
      " #   Column          Non-Null Count  Dtype \n",
      "---  ------          --------------  ----- \n",
      " 0   age             30162 non-null  int64 \n",
      " 1   workclass       30162 non-null  object\n",
      " 2   fnlwgt          30162 non-null  int64 \n",
      " 3   education       30162 non-null  object\n",
      " 4   education-num   30162 non-null  int64 \n",
      " 5   marital-status  30162 non-null  object\n",
      " 6   occupation      30162 non-null  object\n",
      " 7   relationship    30162 non-null  object\n",
      " 8   race            30162 non-null  object\n",
      " 9   sex             30162 non-null  object\n",
      " 10  capital-gain    30162 non-null  int64 \n",
      " 11  capital-loss    30162 non-null  int64 \n",
      " 12  hours-per-week  30162 non-null  int64 \n",
      " 13  native-country  30162 non-null  object\n",
      " 14  income          30162 non-null  object\n",
      "dtypes: int64(6), object(9)\n",
      "memory usage: 3.7+ MB\n"
     ]
    },
    {
     "data": {
      "text/plain": [
       "array([[<matplotlib.axes._subplots.AxesSubplot object at 0x000001669A53D688>,\n",
       "        <matplotlib.axes._subplots.AxesSubplot object at 0x000001669C3FF288>],\n",
       "       [<matplotlib.axes._subplots.AxesSubplot object at 0x000001669C43B248>,\n",
       "        <matplotlib.axes._subplots.AxesSubplot object at 0x000001669C475388>],\n",
       "       [<matplotlib.axes._subplots.AxesSubplot object at 0x000001669C4AE3C8>,\n",
       "        <matplotlib.axes._subplots.AxesSubplot object at 0x000001669C4E64C8>]],\n",
       "      dtype=object)"
      ]
     },
     "execution_count": 4,
     "metadata": {},
     "output_type": "execute_result"
    },
    {
     "data": {
      "image/png": "[encoded data removed]",
      "text/plain": [
       "<Figure size 432x288 with 6 Axes>"
      ]
     },
     "metadata": {
      "needs_background": "light"
     },
     "output_type": "display_data"
    }
   ],
   "source": [
    "adult.replace('?',np.nan,inplace = True)  #adult中缺失值为？ 替换为np.nan \n",
    "adult.isnull().any()   #检测每列是否有缺失值\n",
    "adult_new=adult.dropna()  #删除有缺失值的行\n",
    "adult_new.isnull().any() # 检测新数据集是否有缺失值\n",
    "adult_new.info()         #删除缺失值后的数据信息\n",
    "adult_new.hist()"
   ]
  },
  {
   "cell_type": "code",
   "execution_count": 5,
   "metadata": {
    "scrolled": true
   },
   "outputs": [],
   "source": [
    "#数据标签列分开\n",
    "adult_data=adult_new.iloc[:,:13]       \n",
    "adult_target=adult_new['income']\n"
   ]
  },
  {
   "cell_type": "markdown",
   "metadata": {},
   "source": [
    "## 决策树分类"
   ]
  },
  {
   "cell_type": "code",
   "execution_count": 6,
   "metadata": {},
   "outputs": [],
   "source": [
    "adult_data_s= [i for i in adult_data.columns\n",
    "                       if adult_data[i].dtype.name == 'object']\n",
    "adult_data_n = [i for i in adult_data.columns\n",
    "                     if adult_data[i].dtype.name != 'object']\n",
    "X = pd.concat([adult_data[adult_data_n],\n",
    "                        pd.get_dummies(adult_data[adult_data_s])], axis=1)\n",
    "y=adult_target"
   ]
  },
  {
   "cell_type": "code",
   "execution_count": 7,
   "metadata": {},
   "outputs": [
    {
     "data": {
      "text/plain": [
       "DecisionTreeClassifier(ccp_alpha=0.0, class_weight=None, criterion='entropy',\n",
       "                       max_depth=None, max_features=None, max_leaf_nodes=None,\n",
       "                       min_impurity_decrease=0.0, min_impurity_split=None,\n",
       "                       min_samples_leaf=1, min_samples_split=2,\n",
       "                       min_weight_fraction_leaf=0.0, presort='deprecated',\n",
       "                       random_state=None, splitter='best')"
      ]
     },
     "execution_count": 7,
     "metadata": {},
     "output_type": "execute_result"
    },
    {
     "data": {
      "text/plain": [
       "0.815228202011272"
      ]
     },
     "execution_count": 7,
     "metadata": {},
     "output_type": "execute_result"
    }
   ],
   "source": [
    "X_train, X_test, y_train, y_test = train_test_split(X,y,test_size=0.3)\n",
    "from sklearn import tree\n",
    "from sklearn.model_selection  import cross_val_score\n",
    "dtc=tree.DecisionTreeClassifier(criterion='entropy')  #定义分类器\n",
    "dtc.fit(X_train,y_train)\n",
    "score = dtc.score(X_test,y_test) \n",
    "score\n"
   ]
  },
  {
   "cell_type": "code",
   "execution_count": 8,
   "metadata": {},
   "outputs": [
    {
     "data": {
      "text/plain": [
       "<sklearn.metrics._plot.roc_curve.RocCurveDisplay at 0x1669d0aa308>"
      ]
     },
     "execution_count": 8,
     "metadata": {},
     "output_type": "execute_result"
    },
    {
     "data": {
      "image/png": "[encoded data removed]",
      "text/plain": [
       "<Figure size 432x288 with 1 Axes>"
      ]
     },
     "metadata": {
      "needs_background": "light"
     },
     "output_type": "display_data"
    }
   ],
   "source": [
    "#roc曲线\n",
    "from sklearn.metrics import plot_roc_curve\n",
    "plot_roc_curve(dtc, X_test,y_test,\n",
    "                         name='ROC',\n",
    "                         alpha=0.5, lw=1)"
   ]
  },
  {
   "cell_type": "code",
   "execution_count": 9,
   "metadata": {},
   "outputs": [
    {
     "data": {
      "text/plain": [
       "0.8120152799037109"
      ]
     },
     "execution_count": 9,
     "metadata": {},
     "output_type": "execute_result"
    },
    {
     "data": {
      "text/plain": [
       "array([0.13287567, 0.20195557, 0.1022933 , 0.10156192, 0.03391105,\n",
       "       0.06479506, 0.00535761, 0.00665153, 0.01086592, 0.00456282,\n",
       "       0.00826503, 0.00455774, 0.        , 0.0004369 , 0.00112228,\n",
       "       0.00056327, 0.        , 0.00026346, 0.00066575, 0.0002217 ,\n",
       "       0.00130956, 0.00216638, 0.00158038, 0.00091787, 0.00097361,\n",
       "       0.00308931, 0.00041987, 0.00037229, 0.00238074, 0.00217773,\n",
       "       0.00085502, 0.18888751, 0.00084892, 0.00233987, 0.00110907,\n",
       "       0.00077343, 0.0059445 , 0.        , 0.00726302, 0.00895556,\n",
       "       0.00392222, 0.00366012, 0.00638879, 0.00523434, 0.        ,\n",
       "       0.00634121, 0.00335265, 0.00870046, 0.00554014, 0.00480313,\n",
       "       0.00177891, 0.00315243, 0.0006341 , 0.00193741, 0.00270663,\n",
       "       0.00500919, 0.00152012, 0.00208023, 0.00591363, 0.00071316,\n",
       "       0.00623942, 0.00221689, 0.00486357])"
      ]
     },
     "execution_count": 9,
     "metadata": {},
     "output_type": "execute_result"
    }
   ],
   "source": [
    "scores=cross_val_score(dtc, X, y, cv=10)#10折交叉验证\n",
    "scores.mean()  #平均准确率\n",
    "dtc.fit(X, y).feature_importances_  #特征重要性"
   ]
  },
  {
   "cell_type": "markdown",
   "metadata": {},
   "source": [
    "## KNN "
   ]
  },
  {
   "cell_type": "code",
   "execution_count": 10,
   "metadata": {},
   "outputs": [
    {
     "data": {
      "text/plain": [
       "array([[0.30136986, 0.04333771, 0.8       , 0.02174022, 0.        ,\n",
       "        0.39795918],\n",
       "       [0.45205479, 0.04727738, 0.8       , 0.        , 0.        ,\n",
       "        0.12244898],\n",
       "       [0.28767123, 0.1372439 , 0.53333333, 0.        , 0.        ,\n",
       "        0.39795918],\n",
       "       ...,\n",
       "       [0.56164384, 0.09391367, 0.53333333, 0.        , 0.        ,\n",
       "        0.39795918],\n",
       "       [0.06849315, 0.1276201 , 0.53333333, 0.        , 0.        ,\n",
       "        0.19387755],\n",
       "       [0.47945205, 0.18638336, 0.53333333, 0.1502415 , 0.        ,\n",
       "        0.39795918]])"
      ]
     },
     "execution_count": 10,
     "metadata": {},
     "output_type": "execute_result"
    }
   ],
   "source": [
    "#数据处理\n",
    "adult_data_s= [i for i in adult_data.columns\n",
    "                       if adult_data[i].dtype.name == 'object']\n",
    "adult_data_n = [i for i in adult_data.columns\n",
    "                     if adult_data[i].dtype.name != 'object']\n",
    "\n",
    "from sklearn.preprocessing import MinMaxScaler\n",
    "\n",
    "MinMaxScaler().fit_transform(adult_data[adult_data_n])# 数值型0-1规范化\n",
    "\n",
    "X = pd.concat([adult_data[adult_data_n],\n",
    "                        pd.get_dummies(adult_data[adult_data_s])], axis=1)\n",
    "y=adult_target\n"
   ]
  },
  {
   "cell_type": "markdown",
   "metadata": {},
   "source": [
    "#### 留出法 30%测试集，70%训练集"
   ]
  },
  {
   "cell_type": "code",
   "execution_count": 11,
   "metadata": {},
   "outputs": [
    {
     "data": {
      "text/plain": [
       "KNeighborsClassifier(algorithm='auto', leaf_size=30, metric='minkowski',\n",
       "                     metric_params=None, n_jobs=None, n_neighbors=3, p=2,\n",
       "                     weights='uniform')"
      ]
     },
     "execution_count": 11,
     "metadata": {},
     "output_type": "execute_result"
    },
    {
     "data": {
      "text/plain": [
       "0.7490330423251188"
      ]
     },
     "execution_count": 11,
     "metadata": {},
     "output_type": "execute_result"
    }
   ],
   "source": [
    "#按比例划分训练集和测试集   \n",
    "X_train,X_test,y_train,y_test = train_test_split(X,y,test_size=0.3,stratify=y)# stratify 指定分层抽样的特征\n",
    "\n",
    "from sklearn.neighbors import KNeighborsClassifier\n",
    "knn = KNeighborsClassifier(n_neighbors=3)#n_neighbors=k，距离默认欧式距离，当指定metric= 'minkowski'时，可加参数p=1为曼哈顿距离， p=2为欧式距离。\n",
    "knn.fit(X_train, y_train)\n",
    "score_knn=knn.score(X_test,y_test)\n",
    "score_knn"
   ]
  },
  {
   "cell_type": "code",
   "execution_count": 12,
   "metadata": {
    "scrolled": true
   },
   "outputs": [
    {
     "data": {
      "text/plain": [
       "0.7527682846026782"
      ]
     },
     "execution_count": 12,
     "metadata": {},
     "output_type": "execute_result"
    }
   ],
   "source": [
    "#交叉验证\n",
    "from sklearn.neighbors import KNeighborsClassifier\n",
    "knn = KNeighborsClassifier(n_neighbors=3)#n_neighbors=k，距离默认欧式距离，当指定metric= 'minkowski'时，可加参数p=1为曼哈顿距离， p=2为欧式距离。\n",
    "scores = cross_val_score(knn,X,y, cv=5)#5折交叉验证\n",
    "scores.mean()#平均准确率"
   ]
  },
  {
   "cell_type": "markdown",
   "metadata": {},
   "source": [
    "# 随机森林"
   ]
  },
  {
   "cell_type": "code",
   "execution_count": 13,
   "metadata": {},
   "outputs": [
    {
     "data": {
      "text/plain": [
       "RandomForestClassifier(bootstrap=True, ccp_alpha=0.0, class_weight=None,\n",
       "                       criterion='gini', max_depth=2, max_features='auto',\n",
       "                       max_leaf_nodes=None, max_samples=None,\n",
       "                       min_impurity_decrease=0.0, min_impurity_split=None,\n",
       "                       min_samples_leaf=1, min_samples_split=2,\n",
       "                       min_weight_fraction_leaf=0.0, n_estimators=100,\n",
       "                       n_jobs=None, oob_score=False, random_state=0, verbose=0,\n",
       "                       warm_start=False)"
      ]
     },
     "execution_count": 13,
     "metadata": {},
     "output_type": "execute_result"
    },
    {
     "data": {
      "text/plain": [
       "0.7750027627362139"
      ]
     },
     "execution_count": 13,
     "metadata": {},
     "output_type": "execute_result"
    },
    {
     "name": "stdout",
     "output_type": "stream",
     "text": [
      "[5.59908793e-02 0.00000000e+00 8.49906038e-02 1.31622812e-01\n",
      " 1.45893961e-02 2.81816430e-02 0.00000000e+00 0.00000000e+00\n",
      " 0.00000000e+00 2.05060849e-03 3.07568858e-04 0.00000000e+00\n",
      " 0.00000000e+00 0.00000000e+00 0.00000000e+00 0.00000000e+00\n",
      " 0.00000000e+00 0.00000000e+00 6.87762845e-04 0.00000000e+00\n",
      " 0.00000000e+00 0.00000000e+00 1.82386832e-02 8.21805419e-03\n",
      " 3.76131350e-03 8.22076622e-03 0.00000000e+00 3.52399428e-03\n",
      " 2.17880103e-05 3.44900052e-03 0.00000000e+00 2.44380404e-01\n",
      " 0.00000000e+00 5.07984247e-02 1.70975327e-05 8.14154475e-04\n",
      " 1.44844465e-04 0.00000000e+00 0.00000000e+00 2.69016703e-02\n",
      " 0.00000000e+00 2.34426235e-03 3.46296872e-03 1.35689385e-02\n",
      " 0.00000000e+00 1.05416524e-02 0.00000000e+00 0.00000000e+00\n",
      " 0.00000000e+00 0.00000000e+00 1.59966567e-01 3.27909403e-02\n",
      " 2.15325760e-03 2.74102638e-02 3.41653893e-03 6.16429056e-03\n",
      " 0.00000000e+00 7.09130310e-05 2.55453869e-03 0.00000000e+00\n",
      " 0.00000000e+00 3.29794736e-02 1.56639245e-02]\n"
     ]
    }
   ],
   "source": [
    "from sklearn.ensemble import RandomForestClassifier\n",
    "rfc = RandomForestClassifier(max_depth=2, random_state=0)  #定义分类器\n",
    "rfc.fit(X_train, y_train)      #训练\n",
    "scores=rfc.score(X_test,y_test)    #准确率\n",
    "scores\n",
    "print(rfc.feature_importances_)  #特征重要性"
   ]
  },
  {
   "cell_type": "markdown",
   "metadata": {},
   "source": [
    "# 支持向量机"
   ]
  },
  {
   "cell_type": "code",
   "execution_count": 14,
   "metadata": {},
   "outputs": [
    {
     "data": {
      "text/plain": [
       "SVC(C=1.0, break_ties=False, cache_size=200, class_weight=None, coef0=0.0,\n",
       "    decision_function_shape='ovr', degree=3, gamma='scale', kernel='rbf',\n",
       "    max_iter=-1, probability=False, random_state=None, shrinking=True,\n",
       "    tol=0.001, verbose=False)"
      ]
     },
     "execution_count": 14,
     "metadata": {},
     "output_type": "execute_result"
    },
    {
     "data": {
      "text/plain": [
       "0.7855011603492098"
      ]
     },
     "execution_count": 14,
     "metadata": {},
     "output_type": "execute_result"
    }
   ],
   "source": [
    "from sklearn.model_selection import train_test_split\n",
    "X_train,X_test,y_train,y_test = train_test_split(X,y,test_size=0.3,stratify=y)#留出法划分数据集\n",
    "from sklearn.svm import SVC\n",
    "#3个不同核函数\n",
    "svc1=SVC(kernel=\"rbf\")\n",
    "svc1.fit(X_train, y_train)\n",
    "score_rbf=svc1.score(X_test,y_test)\n",
    "score_rbf\n",
    "\n",
    "# svc2=SVC(kernel=\"poly\",degree=2,gamma=3)\n",
    "# svc2.fit(X_train, y_train)\n",
    "# score_poly=svc2.score(X_test,y_test)\n",
    "# score_poly\n",
    "\n",
    "# svc3=SVC(kernel=\"linear\")\n",
    "# svc3.fit(X_train, y_train)\n",
    "# score_linear=svc3.score(X_test,y_test)\n",
    "# score_linear\n"
   ]
  },
  {
   "cell_type": "markdown",
   "metadata": {},
   "source": [
    "## 交叉验证"
   ]
  },
  {
   "cell_type": "markdown",
   "metadata": {},
   "source": [
    "<p><font size=\"3\" color=\"red\"> 交叉验证ROC曲线，使用时<br/>\n",
    " &nbsp;&nbsp;  1. 更改对应数据集<br/>\n",
    " &nbsp;&nbsp; 2. 指定分类器 classifier<br/>\n",
    " &nbsp;&nbsp;  3. 根据需要，修改曲线属性</p>"
   ]
  },
  {
   "cell_type": "code",
   "execution_count": 99,
   "metadata": {
    "scrolled": true
   },
   "outputs": [
    {
     "data": {
      "text/plain": [
       "KNeighborsClassifier(algorithm='auto', leaf_size=30, metric='minkowski',\n",
       "                     metric_params=None, n_jobs=None, n_neighbors=3, p=2,\n",
       "                     weights='uniform')"
      ]
     },
     "execution_count": 99,
     "metadata": {},
     "output_type": "execute_result"
    },
    {
     "data": {
      "text/plain": [
       "KNeighborsClassifier(algorithm='auto', leaf_size=30, metric='minkowski',\n",
       "                     metric_params=None, n_jobs=None, n_neighbors=3, p=2,\n",
       "                     weights='uniform')"
      ]
     },
     "execution_count": 99,
     "metadata": {},
     "output_type": "execute_result"
    },
    {
     "data": {
      "text/plain": [
       "KNeighborsClassifier(algorithm='auto', leaf_size=30, metric='minkowski',\n",
       "                     metric_params=None, n_jobs=None, n_neighbors=3, p=2,\n",
       "                     weights='uniform')"
      ]
     },
     "execution_count": 99,
     "metadata": {},
     "output_type": "execute_result"
    },
    {
     "data": {
      "text/plain": [
       "KNeighborsClassifier(algorithm='auto', leaf_size=30, metric='minkowski',\n",
       "                     metric_params=None, n_jobs=None, n_neighbors=3, p=2,\n",
       "                     weights='uniform')"
      ]
     },
     "execution_count": 99,
     "metadata": {},
     "output_type": "execute_result"
    },
    {
     "data": {
      "text/plain": [
       "KNeighborsClassifier(algorithm='auto', leaf_size=30, metric='minkowski',\n",
       "                     metric_params=None, n_jobs=None, n_neighbors=3, p=2,\n",
       "                     weights='uniform')"
      ]
     },
     "execution_count": 99,
     "metadata": {},
     "output_type": "execute_result"
    },
    {
     "data": {
      "text/plain": [
       "KNeighborsClassifier(algorithm='auto', leaf_size=30, metric='minkowski',\n",
       "                     metric_params=None, n_jobs=None, n_neighbors=3, p=2,\n",
       "                     weights='uniform')"
      ]
     },
     "execution_count": 99,
     "metadata": {},
     "output_type": "execute_result"
    },
    {
     "data": {
      "text/plain": [
       "[<matplotlib.lines.Line2D at 0x1e0dc67a308>]"
      ]
     },
     "execution_count": 99,
     "metadata": {},
     "output_type": "execute_result"
    },
    {
     "data": {
      "text/plain": [
       "[<matplotlib.lines.Line2D at 0x1e0dc6935c8>]"
      ]
     },
     "execution_count": 99,
     "metadata": {},
     "output_type": "execute_result"
    },
    {
     "data": {
      "text/plain": [
       "[(-0.05, 1.05), (-0.05, 1.05), Text(0.5, 1.0, 'ROC曲线')]"
      ]
     },
     "execution_count": 99,
     "metadata": {},
     "output_type": "execute_result"
    },
    {
     "data": {
      "text/plain": [
       "<matplotlib.legend.Legend at 0x1e0dd28d288>"
      ]
     },
     "execution_count": 99,
     "metadata": {},
     "output_type": "execute_result"
    },
    {
     "data": {
      "image/png": "[encoded data removed]",
      "text/plain": [
       "<Figure size 432x288 with 1 Axes>"
      ]
     },
     "metadata": {
      "needs_background": "light"
     },
     "output_type": "display_data"
    }
   ],
   "source": [
    "from sklearn.model_selection import cross_val_score  #交叉验证\n",
    "from pylab import mpl\n",
    "mpl.rcParams['font.sans-serif'] = ['SimHei']  #图中文显示  SimHei 中文黑体字体\n",
    "import matplotlib.pyplot as plt \n",
    "from sklearn.model_selection import StratifiedKFold\n",
    "from sklearn.metrics import plot_roc_curve\n",
    "from sklearn.metrics import auc\n",
    "\n",
    "\n",
    "X=np.array(X)   # 数据\n",
    "y=np.array(y)       #标签  y\n",
    "\n",
    "cv = StratifiedKFold(n_splits=6)  #n_splits 指定交叉验证折数，默认5\n",
    "\n",
    "classifier = KNeighborsClassifier(n_neighbors=3) #分类器，朴素贝叶斯\n",
    "tprs = []\n",
    "aucs = []\n",
    "mean_fpr = np.linspace(0, 1, 100) #返回指定间隔上的等距数字 0-1之间  100个\n",
    "fig, ax = plt.subplots()  #创建图形fig,ax\n",
    "\n",
    "## n折交叉验证，每次训练画一条曲线，循环n次\n",
    "for i, (train, test) in enumerate(cv.split(X, y)):    #cv.split(X, y)返回split的index\n",
    "    classifier.fit(X[train], y[train])\n",
    "    viz = plot_roc_curve(classifier, X[test], y[test],\n",
    "                         name='ROC fold {}'.format(i),\n",
    "                         alpha=0.5, lw=1, ax=ax)\n",
    "    interp_tpr = np.interp(mean_fpr, viz.fpr, viz.tpr)  #插入点\n",
    "    interp_tpr[0] = 0.0\n",
    "    tprs.append(interp_tpr)\n",
    "    aucs.append(viz.roc_auc)\n",
    "\n",
    "#画出AUC为0.5的线\n",
    "ax.plot([0, 1], [0, 1], linestyle='--', lw=2, color='r',    \n",
    "        label='Chance', alpha=0.8)\n",
    "\n",
    "mean_tpr = np.mean(tprs, axis=0)    #平均tpr\n",
    "mean_tpr[-1] = 1.0      \n",
    "mean_auc = auc(mean_fpr, mean_tpr)\n",
    "ax.plot(mean_fpr, mean_tpr, color='b',\n",
    "        label=r'Mean ROC (AUC = %0.2f )' %(mean_auc),lw=2, alpha=.8)\n",
    "\n",
    "ax.set(xlim=[-0.05, 1.05], ylim=[-0.05, 1.05],\n",
    "       title=\"ROC曲线\")  #图片名称，可修改\n",
    "ax.legend(loc=\"lower right\")   #图例\n",
    "plt.show()"
   ]
  }
 ],
 "metadata": {
  "kernelspec": {
   "display_name": "Python 3",
   "language": "python",
   "name": "python3"
  },
  "language_info": {
   "codemirror_mode": {
    "name": "ipython",
    "version": 3
   },
   "file_extension": ".py",
   "mimetype": "text/x-python",
   "name": "python",
   "nbconvert_exporter": "python",
   "pygments_lexer": "ipython3",
   "version": "3.7.6"
  }
 },
 "nbformat": 4,
 "nbformat_minor": 2
}
