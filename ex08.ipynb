{
 "cells": [
  {
   "cell_type": "code",
   "execution_count": 1,
   "metadata": {},
   "outputs": [],
   "source": [
    "#同时输出一个cell多个结果\n",
    "from IPython.core.interactiveshell import InteractiveShell\n",
    "InteractiveShell.ast_node_interactivity='all' \n",
    "import numpy as np\n",
    "import pandas as pd\n",
    "from sklearn.model_selection  import cross_val_score\n",
    "import matplotlib.pyplot as plt"
   ]
  },
  {
   "cell_type": "markdown",
   "metadata": {},
   "source": [
    "## 读入数据"
   ]
  },
  {
   "cell_type": "code",
   "execution_count": 2,
   "metadata": {},
   "outputs": [
    {
     "data": {
      "text/plain": [
       "RangeIndex(start=0, stop=150, step=1)"
      ]
     },
     "execution_count": 2,
     "metadata": {},
     "output_type": "execute_result"
    }
   ],
   "source": [
    "iris=pd.read_csv('d:/iris.csv')  #读入iris数据集，150个样本的5个特征 sepallength（花萼长度）petallength（花瓣长度），三个类别\n",
    "#根据特征分为两部分，分别为预测特征target 和数据特征集 data\n",
    "iris_data=iris.iloc[:,:4]\n",
    "iris_target=iris['Species']\n",
    "iris_target.index"
   ]
  },
  {
   "cell_type": "markdown",
   "metadata": {},
   "source": [
    "## 数据预处理---最大最小值规范化"
   ]
  },
  {
   "cell_type": "code",
   "execution_count": 3,
   "metadata": {},
   "outputs": [],
   "source": [
    "from sklearn.preprocessing import MinMaxScaler\n",
    "iris_data=MinMaxScaler().fit_transform(iris_data)# 数值型0-1规范化\n",
    "X =iris_data\n",
    "y=iris_target\n"
   ]
  },
  {
   "cell_type": "markdown",
   "metadata": {},
   "source": [
    "## KNN分类"
   ]
  },
  {
   "cell_type": "markdown",
   "metadata": {},
   "source": [
    "<p><font size=\"3\" color=\"red\"> KNeighborsClassifier（）参数：<br/>\n",
    " &nbsp;&nbsp;- n_neighbors=k <br/>\n",
    " &nbsp;&nbsp;- 距离默认为欧式距离，当指定metric= 'minkowski'时，可加参数p=1为曼哈顿距离， p=2为欧式距离。</p>"
   ]
  },
  {
   "cell_type": "code",
   "execution_count": 4,
   "metadata": {},
   "outputs": [
    {
     "data": {
      "text/plain": [
       "0.9533333333333334"
      ]
     },
     "execution_count": 4,
     "metadata": {},
     "output_type": "execute_result"
    }
   ],
   "source": [
    "from sklearn.neighbors import KNeighborsClassifier\n",
    "knn = KNeighborsClassifier(n_neighbors=3)\n",
    "scores = cross_val_score(knn,X,y, cv=5)#5折交叉验证\n",
    "scores.mean()#平均准确率\n"
   ]
  },
  {
   "cell_type": "markdown",
   "metadata": {},
   "source": [
    "## KNN 寻找合适的k值"
   ]
  },
  {
   "cell_type": "code",
   "execution_count": 5,
   "metadata": {},
   "outputs": [
    {
     "data": {
      "text/plain": [
       "[<matplotlib.lines.Line2D at 0x1a9b6ed3b48>]"
      ]
     },
     "execution_count": 5,
     "metadata": {},
     "output_type": "execute_result"
    },
    {
     "data": {
      "text/plain": [
       "Text(0.5, 0, 'Value of K for KNN')"
      ]
     },
     "execution_count": 5,
     "metadata": {},
     "output_type": "execute_result"
    },
    {
     "data": {
      "text/plain": [
       "Text(0, 0.5, 'Error')"
      ]
     },
     "execution_count": 5,
     "metadata": {},
     "output_type": "execute_result"
    },
    {
     "data": {
      "image/png": "[encoded data removed]",
      "text/plain": [
       "<Figure size 432x288 with 1 Axes>"
      ]
     },
     "metadata": {
      "needs_background": "light"
     },
     "output_type": "display_data"
    }
   ],
   "source": [
    "k_range = range(1, 15)# k从1到15，寻找最优值\n",
    "k_error=[]\n",
    "for k in k_range:\n",
    "    knn = KNeighborsClassifier(n_neighbors=k)#默认欧式距离，当指定metric= 'minkowski'时，可加参数p=1为曼哈顿距离， p=2为欧式距离。\n",
    "    scores = cross_val_score(knn, X, y, cv=3, scoring='accuracy') #6折交叉验证\n",
    "    k_error.append(1 - scores.mean())\n",
    "#画图，x轴为k值，y值为误差值\n",
    "plt.plot(k_range, k_error)\n",
    "plt.xlabel('Value of K for KNN')\n",
    "plt.ylabel('Error')\n",
    "plt.show()"
   ]
  },
  {
   "cell_type": "markdown",
   "metadata": {},
   "source": [
    "## 决策树分类"
   ]
  },
  {
   "cell_type": "markdown",
   "metadata": {},
   "source": [
    "<p><font size=\"3\" color=\"red\">  DecisionTreeClassifier()参数：<br/>\n",
    " &nbsp;&nbsp;  \n",
    "criterion默认gini，可选entropy；<br/>\n",
    " &nbsp;&nbsp; max_depth:决策树最大深度<br/>\n",
    " &nbsp;&nbsp; min_samples_split:子树继续划分的条件，如果某节点的样本数少于此值，不会划分，默认2<br/>\n",
    " &nbsp;&nbsp; min_samples_leaf:叶节点最小样本数，如果子数据集中的样本数小于这个值，那么该叶节点和其兄弟节点都会被剪枝，默认为1。</p>"
   ]
  },
  {
   "cell_type": "code",
   "execution_count": 6,
   "metadata": {},
   "outputs": [
    {
     "data": {
      "text/plain": [
       "0.9533333333333334"
      ]
     },
     "execution_count": 6,
     "metadata": {},
     "output_type": "execute_result"
    },
    {
     "data": {
      "text/plain": [
       "array([0.02666667, 0.        , 0.55072262, 0.42261071])"
      ]
     },
     "execution_count": 6,
     "metadata": {},
     "output_type": "execute_result"
    }
   ],
   "source": [
    "from sklearn import tree\n",
    "dtc=tree.DecisionTreeClassifier(criterion='gini')  #定义分类器\n",
    "scores=cross_val_score(dtc, iris_data, iris_target, cv=10)#10折交叉验证\n",
    "scores.mean()  #平均准确率\n",
    "dtc.fit(iris_data, iris_target).feature_importances_  #特征重要性"
   ]
  },
  {
   "cell_type": "markdown",
   "metadata": {},
   "source": [
    "# 支持向量机SVM"
   ]
  },
  {
   "cell_type": "markdown",
   "metadata": {},
   "source": [
    "<p><font size=\"3\" color=\"red\">  SVC()支持向量机分类模型,参数：<br/>\n",
    " &nbsp;&nbsp; kernel：核函数类型，默认为’rbf’，linear：线性核函数，poly：多项式核函数，sigmod：sigmod核函数<br/>\n",
    " &nbsp;&nbsp; degree :默认为3,只对'kernel=poly'(多项式核函数)有用<br/>\n",
    "&nbsp;&nbsp; gamma：核函数系数， 只对‘rbf’,‘poly’,‘sigmod’有效，默认1/n_features</p>\n",
    " \n"
   ]
  },
  {
   "cell_type": "code",
   "execution_count": 7,
   "metadata": {},
   "outputs": [
    {
     "data": {
      "text/plain": [
       "SVC(C=1.0, break_ties=False, cache_size=200, class_weight=None, coef0=0.0,\n",
       "    decision_function_shape='ovr', degree=3, gamma='scale', kernel='rbf',\n",
       "    max_iter=-1, probability=False, random_state=None, shrinking=True,\n",
       "    tol=0.001, verbose=False)"
      ]
     },
     "execution_count": 7,
     "metadata": {},
     "output_type": "execute_result"
    },
    {
     "data": {
      "text/plain": [
       "0.9555555555555556"
      ]
     },
     "execution_count": 7,
     "metadata": {},
     "output_type": "execute_result"
    },
    {
     "data": {
      "text/plain": [
       "SVC(C=1.0, break_ties=False, cache_size=200, class_weight=None, coef0=0.0,\n",
       "    decision_function_shape='ovr', degree=2, gamma=3, kernel='poly',\n",
       "    max_iter=-1, probability=False, random_state=None, shrinking=True,\n",
       "    tol=0.001, verbose=False)"
      ]
     },
     "execution_count": 7,
     "metadata": {},
     "output_type": "execute_result"
    },
    {
     "data": {
      "text/plain": [
       "0.9555555555555556"
      ]
     },
     "execution_count": 7,
     "metadata": {},
     "output_type": "execute_result"
    },
    {
     "data": {
      "text/plain": [
       "SVC(C=1.0, break_ties=False, cache_size=200, class_weight=None, coef0=0.0,\n",
       "    decision_function_shape='ovr', degree=3, gamma='scale', kernel='linear',\n",
       "    max_iter=-1, probability=False, random_state=None, shrinking=True,\n",
       "    tol=0.001, verbose=False)"
      ]
     },
     "execution_count": 7,
     "metadata": {},
     "output_type": "execute_result"
    },
    {
     "data": {
      "text/plain": [
       "0.9555555555555556"
      ]
     },
     "execution_count": 7,
     "metadata": {},
     "output_type": "execute_result"
    }
   ],
   "source": [
    "from sklearn.model_selection import train_test_split\n",
    "X_train,X_test,y_train,y_test = train_test_split(X,y,test_size=0.3,stratify=iris_target)#留出法划分数据集\n",
    "from sklearn.svm import SVC\n",
    "#3个不同核函数\n",
    "svc1=SVC(kernel=\"rbf\")\n",
    "svc1.fit(X_train, y_train)\n",
    "score_rbf=svc1.score(X_test,y_test)\n",
    "score_rbf\n",
    "\n",
    "svc2=SVC(kernel=\"poly\",degree=2,gamma=3)\n",
    "svc2.fit(X_train, y_train)\n",
    "score_poly=svc2.score(X_test,y_test)\n",
    "score_poly\n",
    "\n",
    "svc3=SVC(kernel=\"linear\")\n",
    "svc3.fit(X_train, y_train)\n",
    "score_linear=svc3.score(X_test,y_test)\n",
    "score_linear"
   ]
  },
  {
   "cell_type": "markdown",
   "metadata": {},
   "source": [
    "# 随机森林"
   ]
  },
  {
   "cell_type": "markdown",
   "metadata": {},
   "source": [
    "<p><font size=\"3\" color=\"red\">  RandomForestClassifier()随机森林模型,参数：<br/>\n",
    " &nbsp;&nbsp; n_estimators：核函数类型，默认为100，最多树的个数<br/>\n",
    " &nbsp;&nbsp; max_depth :决策树最大深度，如果不输入的话，决策树在建立子树的时候不会限制子树的深度。<br/>\n",
    "     &nbsp;&nbsp; min_samples_leaf :叶子节点最少的样本数，如果某叶子节点数目小于样本数，则会和兄弟节点一起被剪枝，默认1。<br/>\n",
    "&nbsp;&nbsp; min_samples_split：子树继续划分的条件，如果某节点的样本数少于此值，不会划分，默认2<br/>\n",
    "&nbsp;&nbsp;  max_leaf_nodes：最大叶子节点数，通过限制最大叶子节点数，可以防止过拟合，默认是”None”<br/>\n",
    "&nbsp;&nbsp;criterion：默认gini，可选entropy；</p>"
   ]
  },
  {
   "cell_type": "code",
   "execution_count": 8,
   "metadata": {},
   "outputs": [
    {
     "data": {
      "text/plain": [
       "RandomForestClassifier(bootstrap=True, ccp_alpha=0.0, class_weight=None,\n",
       "                       criterion='gini', max_depth=2, max_features='auto',\n",
       "                       max_leaf_nodes=None, max_samples=None,\n",
       "                       min_impurity_decrease=0.0, min_impurity_split=None,\n",
       "                       min_samples_leaf=1, min_samples_split=2,\n",
       "                       min_weight_fraction_leaf=0.0, n_estimators=100,\n",
       "                       n_jobs=None, oob_score=False, random_state=0, verbose=0,\n",
       "                       warm_start=False)"
      ]
     },
     "execution_count": 8,
     "metadata": {},
     "output_type": "execute_result"
    },
    {
     "data": {
      "text/plain": [
       "0.9333333333333333"
      ]
     },
     "execution_count": 8,
     "metadata": {},
     "output_type": "execute_result"
    },
    {
     "name": "stdout",
     "output_type": "stream",
     "text": [
      "[0.08246747 0.02128802 0.45114378 0.44510073]\n"
     ]
    }
   ],
   "source": [
    "from sklearn.ensemble import RandomForestClassifier\n",
    "clf = RandomForestClassifier(max_depth=2, random_state=0)  #定义分类器\n",
    "clf.fit(X_train, y_train)      #训练\n",
    "scores=clf.score(X_test,y_test)    #准确率\n",
    "scores\n",
    "print(clf.feature_importances_)  #特征重要性\n"
   ]
  }
 ],
 "metadata": {
  "kernelspec": {
   "display_name": "Python 3 (ipykernel)",
   "language": "python",
   "name": "python3"
  },
  "language_info": {
   "codemirror_mode": {
    "name": "ipython",
    "version": 3
   },
   "file_extension": ".py",
   "mimetype": "text/x-python",
   "name": "python",
   "nbconvert_exporter": "python",
   "pygments_lexer": "ipython3",
   "version": "3.10.10"
  },
  "toc": {
   "base_numbering": 1,
   "nav_menu": {},
   "number_sections": true,
   "sideBar": true,
   "skip_h1_title": false,
   "title_cell": "Table of Contents",
   "title_sidebar": "Contents",
   "toc_cell": false,
   "toc_position": {},
   "toc_section_display": true,
   "toc_window_display": false
  }
 },
 "nbformat": 4,
 "nbformat_minor": 4
}
